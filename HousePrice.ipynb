{
 "cells": [
  {
   "cell_type": "code",
   "execution_count": 2,
   "metadata": {},
   "outputs": [],
   "source": [
    "import numpy as np \n",
    "import pandas as pd \n",
    "import matplotlib.pyplot as plt "
   ]
  },
  {
   "cell_type": "code",
   "execution_count": 24,
   "metadata": {},
   "outputs": [],
   "source": [
    "import tensorflow.keras \n",
    "from tensorflow.keras.layers import Dense"
   ]
  },
  {
   "cell_type": "code",
   "execution_count": 9,
   "metadata": {},
   "outputs": [],
   "source": [
    "df=pd.read_csv(\"C:/Users/sudhin/Downloads/HousingPrices.csv\")"
   ]
  },
  {
   "cell_type": "code",
   "execution_count": 10,
   "metadata": {},
   "outputs": [],
   "source": [
    "x = df[['SquareFeet']].values\n",
    "y = df[['SalePrice']].values"
   ]
  },
  {
   "cell_type": "code",
   "execution_count": 17,
   "metadata": {},
   "outputs": [
    {
     "name": "stdout",
     "output_type": "stream",
     "text": [
      "(1460, 1) (1460, 1)\n"
     ]
    }
   ],
   "source": [
    "print(x.shape,y.shape)"
   ]
  },
  {
   "cell_type": "code",
   "execution_count": 14,
   "metadata": {},
   "outputs": [],
   "source": [
    "model=tensorflow.keras.Sequential()"
   ]
  },
  {
   "cell_type": "code",
   "execution_count": 28,
   "metadata": {},
   "outputs": [],
   "source": [
    "model.add(Dense(1,input_shape=(1,)))"
   ]
  },
  {
   "cell_type": "code",
   "execution_count": 30,
   "metadata": {},
   "outputs": [],
   "source": [
    "model.compile(tensorflow.keras.optimizers.Adam(lr=1), 'mean_squared_error')"
   ]
  },
  {
   "cell_type": "code",
   "execution_count": 33,
   "metadata": {},
   "outputs": [
    {
     "name": "stdout",
     "output_type": "stream",
     "text": [
      "Epoch 1/30\n",
      "1460/1460 [==============================] - 0s 115us/step - loss: 3224160356.1644\n",
      "Epoch 2/30\n",
      "1460/1460 [==============================] - 0s 99us/step - loss: 3202196701.0411\n",
      "Epoch 3/30\n",
      "1460/1460 [==============================] - 0s 96us/step - loss: 3198778465.9726\n",
      "Epoch 4/30\n",
      "1460/1460 [==============================] - 0s 107us/step - loss: 3190601872.4384\n",
      "Epoch 5/30\n",
      "1460/1460 [==============================] - 0s 96us/step - loss: 3212190452.8219\n",
      "Epoch 6/30\n",
      "1460/1460 [==============================] - 0s 95us/step - loss: 3192855729.5342\n",
      "Epoch 7/30\n",
      "1460/1460 [==============================] - 0s 101us/step - loss: 3202453499.3973\n",
      "Epoch 8/30\n",
      "1460/1460 [==============================] - 0s 151us/step - loss: 3183961066.5205\n",
      "Epoch 9/30\n",
      "1460/1460 [==============================] - 0s 124us/step - loss: 3206356353.0959\n",
      "Epoch 10/30\n",
      "1460/1460 [==============================] - 0s 123us/step - loss: 3205971390.6849\n",
      "Epoch 11/30\n",
      "1460/1460 [==============================] - 0s 116us/step - loss: 3227653812.9315\n",
      "Epoch 12/30\n",
      "1460/1460 [==============================] - 0s 99us/step - loss: 3193492065.0959\n",
      "Epoch 13/30\n",
      "1460/1460 [==============================] - 0s 118us/step - loss: 3197985626.7397\n",
      "Epoch 14/30\n",
      "1460/1460 [==============================] - 0s 118us/step - loss: 3223022600.1096\n",
      "Epoch 15/30\n",
      "1460/1460 [==============================] - 0s 116us/step - loss: 3199560390.7945\n",
      "Epoch 16/30\n",
      "1460/1460 [==============================] - 0s 123us/step - loss: 3198224393.0959\n",
      "Epoch 17/30\n",
      "1460/1460 [==============================] - 0s 131us/step - loss: 3211802045.3699\n",
      "Epoch 18/30\n",
      "1460/1460 [==============================] - 0s 102us/step - loss: 3153205673.2055\n",
      "Epoch 19/30\n",
      "1460/1460 [==============================] - ETA: 0s - loss: 3139565699.66 - 0s 101us/step - loss: 3228990561.5342\n",
      "Epoch 20/30\n",
      "1460/1460 [==============================] - 0s 107us/step - loss: 3192637959.0137\n",
      "Epoch 21/30\n",
      "1460/1460 [==============================] - 0s 124us/step - loss: 3194635915.0685\n",
      "Epoch 22/30\n",
      "1460/1460 [==============================] - 0s 107us/step - loss: 3194934957.1507\n",
      "Epoch 23/30\n",
      "1460/1460 [==============================] - 0s 88us/step - loss: 3200160992.6575\n",
      "Epoch 24/30\n",
      "1460/1460 [==============================] - 0s 138us/step - loss: 3193715942.1370\n",
      "Epoch 25/30\n",
      "1460/1460 [==============================] - 0s 127us/step - loss: 3192849703.2329\n",
      "Epoch 26/30\n",
      "1460/1460 [==============================] - 0s 97us/step - loss: 3219050006.5753\n",
      "Epoch 27/30\n",
      "1460/1460 [==============================] - 0s 106us/step - loss: 3202315649.3151\n",
      "Epoch 28/30\n",
      "1460/1460 [==============================] - 0s 138us/step - loss: 3173230519.0137\n",
      "Epoch 29/30\n",
      "1460/1460 [==============================] - 0s 97us/step - loss: 3211985060.3836\n",
      "Epoch 30/30\n",
      "1460/1460 [==============================] - 0s 96us/step - loss: 3199478466.4110\n"
     ]
    },
    {
     "data": {
      "text/plain": [
       "<tensorflow.python.keras.callbacks.History at 0x2380d17a4e0>"
      ]
     },
     "execution_count": 33,
     "metadata": {},
     "output_type": "execute_result"
    }
   ],
   "source": [
    "model.fit(x,y, epochs=30, batch_size=10)"
   ]
  },
  {
   "cell_type": "code",
   "execution_count": 37,
   "metadata": {},
   "outputs": [],
   "source": [
    "y_pred = model.predict(x)"
   ]
  },
  {
   "cell_type": "code",
   "execution_count": 39,
   "metadata": {},
   "outputs": [
    {
     "data": {
      "text/plain": [
       "[<matplotlib.lines.Line2D at 0x2380d2dd240>]"
      ]
     },
     "execution_count": 39,
     "metadata": {},
     "output_type": "execute_result"
    },
    {
     "data": {
      "image/png": "[encoded data removed]",
      "text/plain": [
       "<Figure size 432x288 with 1 Axes>"
      ]
     },
     "metadata": {
      "needs_background": "light"
     },
     "output_type": "display_data"
    }
   ],
   "source": [
    "df.plot(kind='scatter',\n",
    "       x='SquareFeet',\n",
    "       y='SalePrice', title='Housing Prices and Square Footage of Iowa Homes')\n",
    "plt.plot(x, y_pred, color='red')"
   ]
  },
  {
   "cell_type": "code",
   "execution_count": 41,
   "metadata": {},
   "outputs": [
    {
     "name": "stdout",
     "output_type": "stream",
     "text": [
      "[[2355576.5]]\n"
     ]
    }
   ],
   "source": [
    "print(model.predict([20000]))"
   ]
  },
  {
   "cell_type": "code",
   "execution_count": null,
   "metadata": {},
   "outputs": [],
   "source": []
  }
 ],
 "metadata": {
  "kernelspec": {
   "display_name": "Python 3",
   "language": "python",
   "name": "python3"
  },
  "language_info": {
   "codemirror_mode": {
    "name": "ipython",
    "version": 3
   },
   "file_extension": ".py",
   "mimetype": "text/x-python",
   "name": "python",
   "nbconvert_exporter": "python",
   "pygments_lexer": "ipython3",
   "version": "3.6.8"
  }
 },
 "nbformat": 4,
 "nbformat_minor": 2
}
